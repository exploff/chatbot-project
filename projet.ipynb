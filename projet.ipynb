{
 "cells": [
  {
   "attachments": {},
   "cell_type": "markdown",
   "metadata": {},
   "source": [
    "# Projet ChatBot\n",
    "\n",
    "## Sommaire\n",
    "\n",
    "- Rappel\n",
    "- Problématique\n",
    "- Sujet\n",
    "- Outils\n",
    "- Modalités\n",
    "- Ressources\n",
    "\n",
    "## Rappel\n",
    "\n",
    "<p>\n",
    "    Lors des 5 travaux précédents, vous avez-vu les bases de la NLP, <br/>\n",
    "    vous avez exploré les différentes manières de traiter du texte et <br/>\n",
    "    vous avez mis en place votre premier chatbot simpliste. \n",
    "</p>\n",
    "\n",
    "## Problématique\n",
    "\n",
    "<p>Le but de ce projet et de mettre en place un chatbot de type OK Google, Siri, Alexa,..</p>\n",
    "<p>Dans ce projet vous aller créer un certain nombre de fonctions qui seront appliquées par un algorithme de reconnaissance vocale.<br>\n",
    "Le programme prend en entrée un texte enregistré à l'aide d'un microphone et en sortie exécute une fonction adéquate à la demande énoncée</p>\n",
    "\n",
    "<i><u>Exemple :</u><br>\n",
    "Moi: \"Montre moi un chat\"<br>\n",
    "ChatBot: \"Ok je vous montre un chat\" => Ouvre un navigateur avec une photo de chat.\n",
    "</i>\n",
    "\n",
    "## Sujet\n",
    "En vous appuyant sur les TP précédemment vu en cours et les outils fournis votre chatbot devra être capable de :\n",
    "- Prendre une entrée microphone\n",
    "- Adapter la langue du chatbot en fonction de la demande en français ou en anglais\n",
    "- Exécuter des fonctions macros à l'aide du fichier de configuration fourni\n",
    "- Pouvoir exécuter au moins 4 fonctions distinctes\n",
    "- Si la demande ne figure pas dans le fichier de configuration: Utiliser un chatbot extérieur afin de tenter de répondre à la demande\n",
    "\n",
    "Fonctionnalités : \n",
    "- Ouvrir un navigateur pour la recherche en général (musique, etc...)\n",
    "- Donner la météo, ou autre chose (API)\n",
    "- Répondre à l'oral\n",
    "- Répondre à une problématique médicale\n",
    "\n",
    "<b>Un soin tout particulié sera donné à la conception</b>\n",
    "\n",
    "> Soigner l'ergonomie\n",
    "\n",
    "> Soigner la qualité du code\n",
    "\n",
    "## Outils\n",
    "Afin de vous aider à réaliser ce projet, je vous invite à regarder les librairies suivantes:\n",
    "- SpeechRecognition<br>\n",
    "https://pypi.org/project/SpeechRecognition/\n",
    "- transformers<br>\n",
    "https://pypi.org/project/transformers/2.1.0/\n",
    "- gTTS<br>\n",
    "https://pypi.org/project/gTTS/\n",
    "\n",
    "## Modalités\n",
    "- Travail en groupe de 2 ou 3\n",
    "- Soutenance <b>technique</b> de fin de projet de 15 minutes avec rapport de 10 pages minimum\n",
    "- A rendre avant le 03.04.2023 23:59\n",
    "- Rapport à rendre avant le 10.04.2023 23:59\n",
    "- Sous le nom: nGroupe_nom1_nom2_nom3_chatbot.ipynb\n",
    "\n",
    "## Ressources"
   ]
  },
  {
   "cell_type": "code",
   "execution_count": 1,
   "metadata": {},
   "outputs": [],
   "source": [
    "test_configs = [\n",
    "    [\n",
    "        [\n",
    "            \"J'ai envie d'écouter de la musique\"\n",
    "        ], \n",
    "        {\n",
    "            'type': 'browse', \n",
    "            'search': 'https://www.youtube.com/watch?v=NeQM1c-XCDc'\n",
    "        }\n",
    "    ], \n",
    "    [\n",
    "        [\n",
    "            \"Bonjour\"\n",
    "        ], \n",
    "        {\n",
    "            'type': 'tts', \n",
    "            'text': 'Bonjour'\n",
    "        }\n",
    "    ],\n",
    "    [\n",
    "        [\n",
    "            \"J'ai besoin de toi\",\n",
    "            \"es-tu là?\"\n",
    "        ], \n",
    "        {\n",
    "            'type': 'tts', \n",
    "            'text': 'Que puis-je faire pour vous ?'\n",
    "        }\n",
    "    ]\n",
    "]"
   ]
  },
  {
   "attachments": {},
   "cell_type": "markdown",
   "metadata": {},
   "source": [
    "## Rendu"
   ]
  },
  {
   "attachments": {},
   "cell_type": "markdown",
   "metadata": {},
   "source": [
    "### FUNCTIONS"
   ]
  },
  {
   "attachments": {},
   "cell_type": "markdown",
   "metadata": {},
   "source": [
    "#### Initialisations"
   ]
  },
  {
   "cell_type": "code",
   "execution_count": null,
   "metadata": {},
   "outputs": [],
   "source": [
    "def initChatbot():\n",
    "    # DO SOMETHING\n",
    "    print(\"[+] - ChatBot initialized\")\n",
    "def initSpeechRecognition():\n",
    "    # DO SOMETHING\n",
    "    print(\"[+] - Speech Recognition initialized\")"
   ]
  },
  {
   "attachments": {},
   "cell_type": "markdown",
   "metadata": {},
   "source": [
    "Interactions"
   ]
  },
  {
   "cell_type": "code",
   "execution_count": null,
   "metadata": {},
   "outputs": [],
   "source": []
  },
  {
   "attachments": {},
   "cell_type": "markdown",
   "metadata": {},
   "source": [
    "### MAIN"
   ]
  },
  {
   "cell_type": "code",
   "execution_count": null,
   "metadata": {},
   "outputs": [],
   "source": [
    "if __name__ == \"__main__\":\n",
    "    # Initialize\n",
    "    print(\"######### INITIALIZATION #########\")\n",
    "    ## Speech Recognition\n",
    "    print(\"[o] - Initializing Speech Recognition\")\n",
    "    sr = initSpeechRecognition()\n",
    "    ## ChatBot\n",
    "    print(\"[o] - Initializing ChatBot\")\n",
    "    chatbot = initChatbot()"
   ]
  },
  {
   "cell_type": "code",
   "execution_count": null,
   "metadata": {},
   "outputs": [],
   "source": [
    "working = True\n",
    "print(\"######### START #########\")\n",
    "\n",
    "while(working):\n",
    "    print(\"> Say something\")\n",
    "\n",
    "    # DO SOMETHING\n",
    "\n",
    "    if(\"\"\"SOMETHING\"\"\"):\n",
    "        print(\"[+] - Speech Recognition success\")\n",
    "        print(\">  You said: #SOMETHING\")\n",
    "        # DO SOMEWHAT\n",
    "        \n",
    "    else:\n",
    "        print(\"[-] - Speech Recognition failed\")\n",
    "        print(\"> I didn't catch that.\")\n",
    "        working = False\n",
    "\n",
    "print(\"######## EXIT #########\")\n",
    "print(\"[o] - Thanks for using me\")\n",
    "print(\"######### END #########\")"
   ]
  }
 ],
 "metadata": {
  "kernelspec": {
   "display_name": "Python 3",
   "language": "python",
   "name": "python3"
  },
  "language_info": {
   "codemirror_mode": {
    "name": "ipython",
    "version": 3
   },
   "file_extension": ".py",
   "mimetype": "text/x-python",
   "name": "python",
   "nbconvert_exporter": "python",
   "pygments_lexer": "ipython3",
   "version": "3.10.6"
  },
  "orig_nbformat": 4,
  "vscode": {
   "interpreter": {
    "hash": "916dbcbb3f70747c44a77c7bcd40155683ae19c65e1c03b4aa3499c5328201f1"
   }
  }
 },
 "nbformat": 4,
 "nbformat_minor": 2
}
