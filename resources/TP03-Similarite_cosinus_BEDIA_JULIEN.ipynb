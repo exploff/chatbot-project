{
 "cells": [
  {
   "attachments": {},
   "cell_type": "markdown",
   "id": "80547d8d-9856-45bd-bc38-94a2025913b2",
   "metadata": {},
   "source": [
    "---\n",
    "<center> <h1> Similarité cosinus dans le contexte de TAL BEDIA JULIEN</h1> </center>\n",
    "\n",
    "---"
   ]
  },
  {
   "attachments": {},
   "cell_type": "markdown",
   "id": "99533676-6dd6-4f65-b6cb-6fa636e92714",
   "metadata": {},
   "source": [
    "## Sujet\n",
    "\n",
    "Nous avons vu deux méthodes de construction de vecteurs pour représenter des documents textuels. La prochaine question qui se pose est la suivante :\n",
    "\n",
    "- Comment mesurer la similarité ou la dissemblance des documents textuels et comment exploiter les vecteurs construits jusqu'à présent pour trouver une solution à ce problème ?\n",
    "\n",
    "<center>\n",
    "\n",
    "![Cosinus](cosinus_query_document.png)\n",
    "</center>\n",
    "\n",
    "Si les mots utilisés dans deux documents sont similaires, cela signifie que les documents sont également similaires. Dans cette section, nous allons étudier la similarité cosinus et l'utiliser pour déterminer la similarité des documents sur la base de leur représentation vectorielle.\n",
    "\n",
    "La similarité cosinus permet de comprendre l'angle entre deux vecteurs. Deux vecteurs sont similaires s'ils sont assez proches en termes de direction. Nous utiliserons les techniques développées dans les séances précédentes pour construire ces vecteurs, puis nous déterminerons à quel point ils sont proches ou éloignés l'un de l'autre en utilisant la similarité cosinus.\n",
    "\n",
    "La similarité cosinus permet de mesurer le cosinus de l'angle entre deux vecteurs. La valeur de la similarité cosinus est comprise entre -1 et +1. La valeur +1 indique que les vecteurs sont parfaitement similaires, et la valeur -1 indique que les vecteurs sont parfaitement dissemblables ou exactement opposés l'un à l'autre. Comme vous pouvez le comprendre, deux documents sont similaires si leurs valeurs de similarité cosinus sont proches de +1. En outre, ces mesures de similarité s'appliquent toujours à des paires de documents. La similarité cosinus ne peut être calculée que pour des vecteurs de même taille. La formule de la similarité en cosinus pour deux vecteurs $A$ et $B$ est la suivante :\n",
    "\n",
    "<center> \n",
    "\n",
    "$ cos(\\theta) = \\frac{A.B}{||A||||B||} $ \n",
    "\n",
    "</center>\n",
    "\n",
    "\n",
    "\n",
    "Ici, $A.B$ est le produit scalaire entre les deux vecteurs, et $||A||$ et $||B||$ représentent respectivement la magnitude (ou norme) de ces deux vecteurs. La formule précédente peut également être représentée comme suit :\n",
    "\n",
    "<center>  \n",
    "\n",
    "$  cos(\\theta) = \\frac{A.B}{\\sqrt{\\sum_{i=1}^{i=N}{a_i^2}} \\sqrt{\\sum_{i=1}^{i=N}{b_i^2}} } $ \n",
    "\n",
    "</center>\n",
    "\n",
    "\n",
    "Ici, $a_i$ et $b_i$ représentent les valeurs des vecteurs $A$ et $B$ le long de la $i$-ème dimension respectivement dans un espace à $N$ dimensions. \n",
    "\n",
    "\n",
    "## Compétences visées\n",
    "\n",
    "- Découvrir les différentes formes que peuvent revétir un chatbot"
   ]
  },
  {
   "cell_type": "markdown",
   "id": "5c02e901-42f1-49a8-b3da-237414163dc6",
   "metadata": {},
   "source": [
    "## Création d'un corpus de phrases\n",
    "\n",
    "Choisissez 6 phrases que vous souhaitez en français ou en anglais. Trois phrases parlent de la même thématique (par exemple, le médical) et les trois autres parlent d'une autre thématique commune. Ces six phrases constituent votre corpus  \n"
   ]
  },
  {
   "cell_type": "code",
   "execution_count": 4,
   "id": "e4d6d908-e38a-4f0e-bd39-6b93b0a1f3cf",
   "metadata": {},
   "outputs": [],
   "source": [
    "medical = [\n",
    "    'Antibiotics are often prescribed to treat bacterial infections.',\n",
    "    'Vaccination is an effective way to prevent certain infectious diseases.',\n",
    "    'Symptoms of the flu include fever, body aches, and persistent cough.'\n",
    "]\n",
    "alimentaire = [\n",
    "    'Fruits and vegetables are rich in nutrients and help maintain a balanced diet.',\n",
    "    'Excessive consumption of sugar can increase the risk of developing diseases such as diabetes.',\n",
    "    'Foods high in fat can contribute to obesity and other health problems.'\n",
    "]"
   ]
  },
  {
   "cell_type": "markdown",
   "id": "83921198-edc8-42df-9d1d-b551fd98ad37",
   "metadata": {},
   "source": [
    "## Pipeline de prétraitement des données\n",
    "\n",
    "Développez une fonction permettant d'effectuer toutes les tâches de prétraitement (nettoyage(DIGIT, URL...), racinisation, lemmatisation, suppression des mots vides, etc.). Un utilisateur doit pouvoir activer seulement les tâches qui l'intéressent. "
   ]
  },
  {
   "cell_type": "code",
   "execution_count": 2,
   "id": "974a0d78",
   "metadata": {},
   "outputs": [
    {
     "name": "stderr",
     "output_type": "stream",
     "text": [
      "[nltk_data] Downloading package stopwords to\n",
      "[nltk_data]     C:\\Users\\Julien\\AppData\\Roaming\\nltk_data...\n",
      "[nltk_data]   Package stopwords is already up-to-date!\n"
     ]
    }
   ],
   "source": [
    "import re\n",
    "import spacy\n",
    "import nltk\n",
    "nltk.download('stopwords')\n",
    "\n",
    "from nltk.corpus import stopwords\n",
    "\n",
    "stop_words = stopwords.words('english')\n",
    "# Charger le modèle 'en' pour la langue anglaise\n",
    "nlp = spacy.load('en_core_web_sm')\n"
   ]
  },
  {
   "cell_type": "code",
   "execution_count": 5,
   "id": "f401d805-2685-4441-ac16-e8b3f8ea3ddc",
   "metadata": {},
   "outputs": [
    {
     "name": "stdout",
     "output_type": "stream",
     "text": [
      "antibiotics often prescribed treat bacterial infections.\n"
     ]
    }
   ],
   "source": [
    "def preprocess(text, strip=True, lowercase=True, cleaning_digit_url=True, remove_stopwords=True, tokenization=True):\n",
    "\n",
    "    if strip:\n",
    "        # strip\n",
    "        text = text.strip()\n",
    "\n",
    "    if lowercase:\n",
    "        # minuscule\n",
    "        text = text.lower()\n",
    "\n",
    "    if cleaning_digit_url:\n",
    "        # Expression régulière pour identifier les URLs\n",
    "        url_regex = r'http\\S+'\n",
    "        text = re.sub(url_regex, \"URL\", text)\n",
    "\n",
    "        # Expression régulière pour identifier les chiffres\n",
    "        digit_regex = r'\\d+'\n",
    "        text = re.sub(digit_regex, \"DIGIT\", text)\n",
    "\n",
    "        # Expression régulière pour identifier les users\n",
    "        user_regex = r'@\\S+'\n",
    "        text = re.sub(user_regex, \"USER\", text)\n",
    "\n",
    "    if remove_stopwords:\n",
    "        # suppression des mots vides\n",
    "        filtered_words = [word for word in text.split() if word.lower() not in stop_words]\n",
    "        text = ' '.join(filtered_words)\n",
    "\n",
    "    if tokenization:\n",
    "        # racinisation et lemmatisation\n",
    "        nlp_output = nlp(text)\n",
    "    \n",
    "    return nlp_output\n",
    "\n",
    "print(preprocess(medical[0]))"
   ]
  },
  {
   "attachments": {},
   "cell_type": "markdown",
   "id": "e70334d6-79e1-4206-9d0f-17f089424ef9",
   "metadata": {},
   "source": [
    "## Codez la fonction de similarité cosinus\n",
    "\n",
    "La similarité cosinus permet de mesurer le cosinus de l'angle entre deux vecteurs. La valeur de la similarité cosinus est comprise entre -1 et +1. La valeur +1 indique que les vecteurs sont parfaitement similaires, et la valeur -1 indique que les vecteurs sont parfaitement dissemblables ou exactement opposés l'un à l'autre. Comme vous pouvez le comprendre, deux documents sont similaires si leurs valeurs de similarité cosinus sont proches de +1. En outre, ces mesures de similarité s'appliquent toujours à des paires de documents. La similarité cosinus ne peut être calculée que pour des vecteurs de même taille."
   ]
  },
  {
   "cell_type": "code",
   "execution_count": 6,
   "id": "b2fdf1a3-def1-4f95-a426-a2091dbf5865",
   "metadata": {},
   "outputs": [
    {
     "name": "stdout",
     "output_type": "stream",
     "text": [
      "0.8244190863785854\n"
     ]
    }
   ],
   "source": [
    "import math\n",
    "\n",
    "def cosine_similarity(token1, token2):\n",
    "\n",
    "    # transformer les tokens en vecteurs\n",
    "    vector1 = {x: token1.count(x) for x in set(token1)}\n",
    "    vector2 = {x: token2.count(x) for x in set(token2)}\n",
    "    \n",
    "    # calculer le produit scalaire\n",
    "    dot_product = sum(vector1[x] * vector2[x] for x in vector1 if x in vector2)\n",
    "    \n",
    "    # calculer la magnitude de chaque vecteur\n",
    "    magnitude1 = math.sqrt(sum(vector1[x] ** 2 for x in vector1))\n",
    "    magnitude2 = math.sqrt(sum(vector2[x] ** 2 for x in vector2))\n",
    "    \n",
    "    # calculer la similarité cosinus\n",
    "    cosine_sim = dot_product / (magnitude1 * magnitude2)\n",
    "    \n",
    "    return cosine_sim\n",
    "\n",
    "\n",
    "print(cosine_similarity(preprocess(medical[2]).text, preprocess(medical[1]).text))\n",
    "\n"
   ]
  },
  {
   "cell_type": "markdown",
   "id": "96f569c7-8298-41e5-be60-3dab42046d85",
   "metadata": {},
   "source": [
    "## Calculez le sac de mots du corpus"
   ]
  },
  {
   "cell_type": "code",
   "execution_count": 7,
   "id": "27b9ad0d-b56b-4f6f-b8c9-582aa1af3ed2",
   "metadata": {},
   "outputs": [
    {
     "name": "stdout",
     "output_type": "stream",
     "text": [
      "Counter({'and': 4, 'to': 3, 'of': 3, 'are': 2, 'the': 2, 'in': 2, 'can': 2, 'Antibiotics': 1, 'often': 1, 'prescribed': 1, 'treat': 1, 'bacterial': 1, 'infections.': 1, 'Vaccination': 1, 'is': 1, 'an': 1, 'effective': 1, 'way': 1, 'prevent': 1, 'certain': 1, 'infectious': 1, 'diseases.': 1, 'Symptoms': 1, 'flu': 1, 'include': 1, 'fever,': 1, 'body': 1, 'aches,': 1, 'persistent': 1, 'cough.': 1, 'Fruits': 1, 'vegetables': 1, 'rich': 1, 'nutrients': 1, 'help': 1, 'maintain': 1, 'a': 1, 'balanced': 1, 'diet.': 1, 'Excessive': 1, 'consumption': 1, 'sugar': 1, 'increase': 1, 'risk': 1, 'developing': 1, 'diseases': 1, 'such': 1, 'as': 1, 'diabetes.': 1, 'Foods': 1, 'high': 1, 'fat': 1, 'contribute': 1, 'obesity': 1, 'other': 1, 'health': 1, 'problems.': 1})\n"
     ]
    }
   ],
   "source": [
    "from collections import Counter\n",
    "\n",
    "corpus = medical + alimentaire\n",
    "\n",
    "sac_words = Counter()\n",
    "for sentence in corpus:\n",
    "    words = sentence.split()\n",
    "    sac_words.update(words)\n",
    "\n",
    "print(sac_words)"
   ]
  },
  {
   "cell_type": "markdown",
   "id": "bfd67a2d-e7e3-4cee-8c4c-733ab349f2bf",
   "metadata": {},
   "source": [
    "## Calculez la similarité cosinus entre toutes les paires de phrases du corpus en utilisant le sac de mots calculé. "
   ]
  },
  {
   "cell_type": "code",
   "execution_count": 7,
   "id": "4e7856cc-6a63-4f5e-80ad-73e5502c6334",
   "metadata": {},
   "outputs": [
    {
     "name": "stdout",
     "output_type": "stream",
     "text": [
      "Similarité entre phrase 1 phrase 2 est : 0.9240193617942865\n",
      "Similarité entre phrase 1 phrase 3 est : 0.7846672183859986\n",
      "Similarité entre phrase 1 phrase 4 est : 0.9231555985818445\n",
      "Similarité entre phrase 1 phrase 5 est : 0.8240762562684527\n",
      "Similarité entre phrase 1 phrase 6 est : 0.8403851200627007\n",
      "Similarité entre phrase 2 phrase 3 est : 0.8244190863785854\n",
      "Similarité entre phrase 2 phrase 4 est : 0.9119375819025141\n",
      "Similarité entre phrase 2 phrase 5 est : 0.8913847145509861\n",
      "Similarité entre phrase 2 phrase 6 est : 0.7574409203664897\n",
      "Similarité entre phrase 3 phrase 4 est : 0.8408201303452935\n",
      "Similarité entre phrase 3 phrase 5 est : 0.8703714197937948\n",
      "Similarité entre phrase 3 phrase 6 est : 0.8787760582097436\n",
      "Similarité entre phrase 4 phrase 5 est : 0.8577014384058856\n",
      "Similarité entre phrase 4 phrase 6 est : 0.8355389901182093\n",
      "Similarité entre phrase 5 phrase 6 est : 0.7510236095106758\n"
     ]
    }
   ],
   "source": [
    "import math\n",
    "\n",
    "def cosine_similarity(token1, token2):\n",
    "\n",
    "    # transformer les tokens en vecteurs\n",
    "    vector1 = {x: token1.count(x) for x in set(token1)}\n",
    "    vector2 = {x: token2.count(x) for x in set(token2)}\n",
    "    \n",
    "    # calculer le produit scalaire\n",
    "    dot_product = sum(vector1[x] * vector2[x] for x in vector1 if x in vector2)\n",
    "    \n",
    "    # calculer la magnitude de chaque vecteur\n",
    "    magnitude1 = math.sqrt(sum(vector1[x] ** 2 for x in vector1))\n",
    "    magnitude2 = math.sqrt(sum(vector2[x] ** 2 for x in vector2))\n",
    "    \n",
    "    # calculer la similarité cosinus\n",
    "    cosine_sim = dot_product / (magnitude1 * magnitude2)\n",
    "    \n",
    "    return cosine_sim\n",
    "\n",
    "corpus = medical + alimentaire\n",
    "\n",
    "for i in range(len(corpus)):\n",
    "    for j in range(i+1, len(corpus)):\n",
    "        similarity_score = cosine_similarity(preprocess(corpus[i]).text, preprocess(corpus[j]).text)\n",
    "        print(\n",
    "            f\"Similarité entre phrase {i+1} phrase {j+1} est : {similarity_score}\")\n"
   ]
  },
  {
   "cell_type": "markdown",
   "id": "7dd73f57-8597-4836-8f47-3594d5783ddd",
   "metadata": {},
   "source": [
    "## Calculez les vecteurs tf-idf du corpus"
   ]
  },
  {
   "cell_type": "code",
   "execution_count": 8,
   "id": "bb43bb6a-a4dc-4e3a-9ef3-1020a83238d0",
   "metadata": {},
   "outputs": [
    {
     "name": "stdout",
     "output_type": "stream",
     "text": [
      "(6, 55)\n"
     ]
    }
   ],
   "source": [
    "from sklearn.metrics.pairwise import cosine_similarity\n",
    "from sklearn.feature_extraction.text import TfidfVectorizer\n",
    "\n",
    "corpus = medical + alimentaire\n",
    "\n",
    "vectorizer = TfidfVectorizer()\n",
    "tf_idf_matrix = vectorizer.fit_transform(corpus)\n",
    "\n",
    "print(tf_idf_matrix.shape)"
   ]
  },
  {
   "cell_type": "markdown",
   "id": "3251cb3a-16e8-46a7-b7a6-34240f8bbd7b",
   "metadata": {},
   "source": [
    "## Calculez la similarité cosinus entre toutes les paires de phrases du corpus en utilisant la représenation tf-idf calculée. "
   ]
  },
  {
   "cell_type": "code",
   "execution_count": 9,
   "id": "42dabf62",
   "metadata": {},
   "outputs": [
    {
     "name": "stdout",
     "output_type": "stream",
     "text": [
      "[[1.         0.05924445 0.         0.07492542 0.         0.05583517]\n",
      " [0.05924445 1.         0.         0.         0.06003726 0.04935848]\n",
      " [0.         0.         1.         0.09113359 0.17383856 0.04763934]\n",
      " [0.07492542 0.         0.09113359 1.         0.         0.15141149]\n",
      " [0.         0.06003726 0.17383856 0.         1.         0.05658237]\n",
      " [0.05583517 0.04935848 0.04763934 0.15141149 0.05658237 1.        ]]\n"
     ]
    }
   ],
   "source": [
    "similarity_matrix = cosine_similarity(tf_idf_matrix)\n",
    "\n",
    "print(similarity_matrix)"
   ]
  },
  {
   "attachments": {},
   "cell_type": "markdown",
   "id": "541f6f3a",
   "metadata": {},
   "source": [
    "## Question obligatoire : Appliquer la similarité cosinus sur les tweets airlines et afficher une heatmap du résultat."
   ]
  },
  {
   "cell_type": "code",
   "execution_count": 10,
   "id": "e469c1a5",
   "metadata": {},
   "outputs": [
    {
     "data": {
      "image/png": "[encoded data removed]",
      "text/plain": [
       "<Figure size 432x288 with 2 Axes>"
      ]
     },
     "metadata": {
      "needs_background": "light"
     },
     "output_type": "display_data"
    }
   ],
   "source": [
    "import pandas as pd\n",
    "import seaborn as sns\n",
    "import matplotlib.pyplot as plt\n",
    "from datetime import datetime\n",
    "dateparse = lambda x: datetime.strptime(x, '%Y-%m-%d %H:%M:%S -0800')\n",
    "\n",
    "tweets = pd.read_csv('airline_tweets.csv', encoding='utf-8', parse_dates=['tweet_created'], date_parser=dateparse)\n",
    "\n",
    "# Récupère que 100 tweets pour des soucis de performances\n",
    "corpus_tweet = tweets['text'].tolist()[:100]\n",
    "\n",
    "# Applique la fonction de preprocess sur chaque tweet\n",
    "corpus_token = [preprocess(tweet).text for tweet in corpus_tweet ]\n",
    "\n",
    "# On applique la similarité cosinus de tdif pour de meilleur résultat\n",
    "tf_idf_matrix = vectorizer.fit_transform(corpus_token)\n",
    "similarity_matrix = cosine_similarity(tf_idf_matrix)\n",
    "\n",
    "#print(similarity_matrix)\n",
    "\n",
    "# Créer une heatmap avec seaborn\n",
    "sns.set(font_scale=1.2)\n",
    "sns.heatmap(similarity_matrix, annot=True, cmap=\"YlGnBu\")\n",
    "\n",
    "# Ajouter le titre\n",
    "plt.title(\"Matrice de similarité cosinus\")\n",
    "\n",
    "# Afficher la heatmap\n",
    "plt.show()"
   ]
  },
  {
   "cell_type": "markdown",
   "id": "5f17fead",
   "metadata": {},
   "source": []
  }
 ],
 "metadata": {
  "kernelspec": {
   "display_name": "Python 3",
   "language": "python",
   "name": "python3"
  },
  "language_info": {
   "codemirror_mode": {
    "name": "ipython",
    "version": 3
   },
   "file_extension": ".py",
   "mimetype": "text/x-python",
   "name": "python",
   "nbconvert_exporter": "python",
   "pygments_lexer": "ipython3",
   "version": "3.9.5"
  },
  "vscode": {
   "interpreter": {
    "hash": "916dbcbb3f70747c44a77c7bcd40155683ae19c65e1c03b4aa3499c5328201f1"
   }
  }
 },
 "nbformat": 4,
 "nbformat_minor": 5
}
