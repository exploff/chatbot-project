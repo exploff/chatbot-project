{
 "cells": [
  {
   "attachments": {},
   "cell_type": "markdown",
   "metadata": {},
   "source": [
    "---\n",
    "<center><h1>Chatbot</h1></center>\n",
    "\n",
    "---"
   ]
  },
  {
   "attachments": {},
   "cell_type": "markdown",
   "metadata": {},
   "source": [
    "<p>Dans la première séance, nous avons évoqué les chatbots comme l'une des principales applications réelles\n",
    "du traitement automatique des langues. A présent, nous en savons suffisamment pour créer un chatbot\n",
    "basique qui pourrait être “entraîné” à l'aide d'un corpus prédéfini et fournir des réponses à des requêtes\n",
    "en utilisant des concepts de similarité. Dans ce tp, il est demandé de développer un chatbot en utilisant\n",
    "les concepts de vectorisation et la similarité cosinus.</p>\n",
    "\n",
    "<p>La condition la plus importante pour construire un chatbot est relatif au corpus ou les données textuelles\n",
    "sur lesquelles le chatbot sera entraîné. Le corpus doit être pertinent et exhaustif. Si vous construisez un\n",
    "chatbot pour le département des ressources humaines (RH) de votre organisation, vous aurez\n",
    "généralement besoin d'un corpus contenant toutes les politiques RH pour entraîner le chatbot et non d'un\n",
    "corpus contenant des discours présidentiels. Vous devrez également vous assurer que le temps de réponse\n",
    "est acceptable et que le robot ne prend pas un temps excessif pour répondre. Idéalement, le chatbot devrait\n",
    "aussi ressembler à un être humain et avoir un taux de précision acceptable.</p>\n",
    "\n",
    "<p>Pour les besoins du chatbot que vous allez développer, vous utiliserez une base de données de questions\n",
    "et de réponses recueillies sur le site Web d'Amazon pour diverses catégories de produits\n",
    "(http://jmcauley.ucsd.edu/data/amazon/qa/). Dans un premier temps, vous vous focalisez uniquement\n",
    "aux données relatives aux produits électroniques sous format json\n",
    "(http://jmcauley.ucsd.edu/data/amazon/qa/qa_Electronics.json.gz).</p>\n",
    "<p>Extrait des cinq premières lignes du fichier json:</p>\n",
    "\n",
    "```json\n",
    "{\"questionType\": \"yes/no\", \"asin\": \"0594033926\", \"answerTime\": \"Dec 27, 2013\", \"unixTime\": 1388131200,\n",
    "\"question\": \"Is this cover the one that fits the old nook color? Which I believe is 8x5.\", \"answerType\": \"Y\",\n",
    "\"answer\": \"Yes this fits both the nook color and the same-shaped nook tablet\"}\n",
    "```\n",
    "```json\n",
    "{\"questionType\": \"yes/no\", \"asin\": \"0594033926\", \"answerTime\": \"Jan 5, 2015\", \"unixTime\": 1420444800,\n",
    "\"question\": \"Does it fit Nook GlowLight?\", \"answerType\": \"N\", \"answer\": \"No. The nook color or color\n",
    "tablet\"}\n",
    "```\n",
    "```json\n",
    "{\"answer\": \"I don't think so. The nook color is 5 x 8 so not sure anything smaller would stay locked in,\n",
    "but would be close.\", \"asin\": \"0594033926\", \"answerTime\": \"2 days ago\", \"question\": \"Would it fit Nook 1st\n",
    "Edition? 4.9in x 7.7in ?\", \"questionType\": \"open-ended\"}\n",
    "```\n",
    "```json\n",
    "{\"questionType\": \"yes/no\", \"asin\": \"0594033926\", \"answerTime\": \"17 days ago\", \"question\": \"Will this fit a\n",
    "Nook Color that's 5 x 8?\", \"answerType\": \"Y\", \"answer\": \"yes\"}\n",
    "```\n",
    "```json\n",
    "{\"questionType\": \"yes/no\", \"asin\": \"0594033926\", \"answerTime\": \"Feb 10, 2015\", \"unixTime\": 1423555200,\n",
    "\"question\": \"will this fit the Samsung Galaxy Tab 4 Nook 10.1\", \"answerType\": \"N\", \"answer\": \"No, the tab\n",
    "is smaller than the 'color'\"}\n",
    "```\n",
    "\n",
    "<p>Comme nous pouvons le voir, chaque ligne de données est au format d'un dictionnaire avec diverses\n",
    "paires clé-valeur.</p>\n",
    "\n",
    "<i>Voici les étapes principales pour concevoir un chatbot</i>"
   ]
  },
  {
   "attachments": {},
   "cell_type": "markdown",
   "metadata": {},
   "source": [
    "1. Stocker toutes les questions du corpus dans une liste"
   ]
  },
  {
   "attachments": {},
   "cell_type": "markdown",
   "metadata": {},
   "source": [
    "2. Stocker toutes les réponses correspondantes du corpus dans une liste"
   ]
  },
  {
   "attachments": {},
   "cell_type": "markdown",
   "metadata": {},
   "source": [
    "3. Vectoriser et prétraiter les données des questions"
   ]
  },
  {
   "attachments": {},
   "cell_type": "markdown",
   "metadata": {},
   "source": [
    "4. Vectoriser et prétraiter la requête de l'utilisateur."
   ]
  },
  {
   "attachments": {},
   "cell_type": "markdown",
   "metadata": {},
   "source": [
    "5. Evaluer la question la plus similaire à la requête de l'utilisateur en utilisant la similarité cosinus"
   ]
  },
  {
   "cell_type": "markdown",
   "metadata": {},
   "source": [
    "6. Renvoyer la réponse correspondante à la question la plus similaire sous forme de réponse de\n",
    "chat."
   ]
  },
  {
   "attachments": {},
   "cell_type": "markdown",
   "metadata": {},
   "source": [
    "<p>Le programme doit être interactif, c'est à dire il doit permettre à l'utilisateur humain anglophone et au\n",
    "chatbot d'échanger continuellement jusqu'à ce que l'utilisateur demande explicitement d'arrêter. </p>\n",
    "<p>Le programme doit pouvoir proposer deux types de vectorisation : le sac de mots et tf-idf.\n",
    "Pour tester votre programme, établissez une liste de 6 questions parmi lesquelles 3 sont issues du\n",
    "corpus questions. Le reste des questions doit être similaire aux questions de corpus sans être\n",
    "exactement identiques.</p>\n"
   ]
  },
  {
   "cell_type": "code",
   "execution_count": 17,
   "metadata": {},
   "outputs": [
    {
     "name": "stderr",
     "output_type": "stream",
     "text": [
      "[nltk_data] Downloading package stopwords to\n",
      "[nltk_data]     C:\\Users\\Julien\\AppData\\Roaming\\nltk_data...\n",
      "[nltk_data]   Package stopwords is already up-to-date!\n"
     ]
    }
   ],
   "source": [
    "import re\n",
    "import spacy\n",
    "import nltk\n",
    "nltk.download('stopwords')\n",
    "\n",
    "from nltk.corpus import stopwords\n",
    "\n",
    "stop_words = stopwords.words('english')\n",
    "# Charger le modèle 'en' pour la langue anglaise\n",
    "nlp = spacy.load('en_core_web_sm')\n",
    "\n",
    "def preprocess(text, strip=True, lowercase=True, cleaning_digit_url=True, remove_stopwords=True, tokenization=True):\n",
    "\n",
    "    if strip:\n",
    "        # strip\n",
    "        text = text.strip()\n",
    "\n",
    "    if lowercase:\n",
    "        # minuscule\n",
    "        text = text.lower()\n",
    "\n",
    "    if cleaning_digit_url:\n",
    "        # Expression régulière pour identifier les URLs\n",
    "        url_regex = r'http\\S+'\n",
    "        text = re.sub(url_regex, \"URL\", text)\n",
    "\n",
    "        # Expression régulière pour identifier les chiffres\n",
    "        digit_regex = r'\\d+'\n",
    "        text = re.sub(digit_regex, \"DIGIT\", text)\n",
    "\n",
    "        # Expression régulière pour identifier les users\n",
    "        user_regex = r'@\\S+'\n",
    "        text = re.sub(user_regex, \"USER\", text)\n",
    "\n",
    "    if remove_stopwords:\n",
    "        # suppression des mots vides\n",
    "        filtered_words = [word for word in text.split() if word.lower() not in stop_words]\n",
    "        text = ' '.join(filtered_words)\n",
    "\n",
    "    if tokenization:\n",
    "        # racinisation et lemmatisation\n",
    "        nlp_output = nlp(text)\n",
    "    \n",
    "    return nlp_output.text\n"
   ]
  },
  {
   "cell_type": "code",
   "execution_count": 30,
   "metadata": {},
   "outputs": [
    {
     "name": "stdout",
     "output_type": "stream",
     "text": [
      "RECUPERE QUE LES 500 PREMIERS POUR DES RAISONS DE PERFORMAnCES\n",
      "['cover one fits old nook color? believe DIGITxDIGIT.', 'fit nook glowlight?', 'would fit nook DIGITst edition? DIGIT.DIGITin x DIGIT.DIGITin ?', \"fit nook color that's DIGIT x DIGIT?\", 'fit samsung galaxy tab DIGIT nook DIGIT.DIGIT']\n",
      "['Yes this fits both the nook color and the same-shaped nook tablet', 'No. The nook color or color tablet', \"I don't think so. The nook color is 5 x 8 so not sure anything smaller would stay locked in, but would be close.\", 'yes', \"No, the tab is smaller than the 'color'\"]\n"
     ]
    }
   ],
   "source": [
    "import pandas as pd\n",
    "import gzip\n",
    "\n",
    "def parse(path):\n",
    "    g = gzip.open(path, 'rb')\n",
    "    for l in g:\n",
    "        yield eval(l)\n",
    "\n",
    "def getDF(path):\n",
    "    i = 0\n",
    "    df = {}\n",
    "    for d in parse(path):\n",
    "        df[i] = d\n",
    "        i += 1\n",
    "    return pd.DataFrame.from_dict(df, orient='index')\n",
    "\n",
    "print(\"RECUPERE QUE LES 500 PREMIERS POUR DES RAISONS DE PERFORMAnCES\")\n",
    "df = getDF('qa_Electronics.json.gz')\n",
    "questions = df['question'][:500].apply(preprocess).tolist()\n",
    "answers = df['answer'][:500].tolist()\n",
    "\n",
    "print(questions[:5])\n",
    "print(answers[:5])"
   ]
  },
  {
   "cell_type": "code",
   "execution_count": 43,
   "metadata": {},
   "outputs": [
    {
     "name": "stdout",
     "output_type": "stream",
     "text": [
      "I only use Cushion Grip in my lower plate so I let it soak in hot water and then use a paring knife to get under the pieces and pull them out. My husband uses a thicker piece in his lower denture but just grabs hold of it, pulls and it comes right out. Hope this helps!\n"
     ]
    }
   ],
   "source": [
    "from sklearn.feature_extraction.text import TfidfVectorizer\n",
    "from sklearn.metrics.pairwise import cosine_similarity\n",
    "from sklearn.feature_extraction.text import CountVectorizer\n",
    "\n",
    "def find_most_similar_sac_words(query, questions):\n",
    "    vectorizer = CountVectorizer()\n",
    "    vectors = vectorizer.fit_transform(questions + [query])\n",
    "    \n",
    "    query_vector = vectors[-1]\n",
    "    question_vectors = vectors[:-1]\n",
    "    \n",
    "    similarity_scores = []\n",
    "    for vec in question_vectors:\n",
    "        score = cosine_similarity(vec, query_vector)[0][0]\n",
    "        similarity_scores.append(score)\n",
    "    \n",
    "    most_similar_index = max(range(len(similarity_scores)), key=lambda i: similarity_scores[i])\n",
    "    \n",
    "    return most_similar_index\n",
    "\n",
    "def find_most_similar(query, questions):\n",
    "\n",
    "    vectorizer = TfidfVectorizer()\n",
    "    vectors = vectorizer.fit_transform(questions + [query])\n",
    "    \n",
    "    similarity_scores = cosine_similarity(vectors[:-1], vectors[-1])\n",
    "    \n",
    "    most_similar_index = similarity_scores.argmax()\n",
    "    \n",
    "    return most_similar_index\n",
    "\n",
    "def chatbot(request, questions, answers, sac_words=False):\n",
    "    # 4. Vectoriser et prétraiter la requête de l'utilisateur.\n",
    "    request_preprocessed = preprocess(request)\n",
    "\n",
    "    #5. Evaluer la question la plus similaire à la requête de l'utilisateur en utilisant la similarité cosinus\n",
    "    if sac_words:\n",
    "        most_similar_index = find_most_similar_sac_words(request_preprocessed, questions)\n",
    "    else:\n",
    "        most_similar_index = find_most_similar(request_preprocessed, questions)\n",
    "    \n",
    "    #6. Renvoyer la réponse correspondante à la question la plus similaire sous forme de réponse de chat.\n",
    "    most_similar_response = answers[most_similar_index]\n",
    "    \n",
    "    return most_similar_response\n",
    "\n",
    "response = chatbot(\"What is the best way to clean a laptop screen?\", questions, answers)\n",
    "print(response)\n"
   ]
  },
  {
   "attachments": {},
   "cell_type": "markdown",
   "metadata": {},
   "source": [
    "<p>Le programme doit être interactif, c'est à dire il doit permettre à l'utilisateur humain anglophone et au\n",
    "chatbot d'échanger continuellement jusqu'à ce que l'utilisateur demande explicitement d'arrêter. </p>\n",
    "<p>Le programme doit pouvoir proposer deux types de vectorisation : le sac de mots et tf-idf.\n",
    "Pour tester votre programme, établissez une liste de 6 questions parmi lesquelles 3 sont issues du\n",
    "corpus questions. Le reste des questions doit être similaire aux questions de corpus sans être\n",
    "exactement identiques.</p>\n"
   ]
  },
  {
   "cell_type": "code",
   "execution_count": 44,
   "metadata": {},
   "outputs": [
    {
     "name": "stdout",
     "output_type": "stream",
     "text": [
      "User:  Does it fit Nook GlowLight?\n",
      "Bot:  No. The nook color or color tablet\n",
      "User:  will this fit the Samsung Galaxy Tab 4 Nook 10.1\n",
      "Bot:  No, the tab is smaller than the 'color'\n",
      "User:  My TV has a VESA 200x200 bolt pattern and I need it to extend to 24 inches. With the extension, will this wall mount fit my bolt pattern?\n",
      "Bot:  200mm x200mm. Yes Fully extended from wall to TV support is 19 inches From wall to the front of my tv is 24 inches.\n",
      "User:  How does the latest macbook work?\n",
      "Bot:  I just got my MacBook Air in January, so I believe it's the latest model. It did NOT work with my computer. The vendor keeps trying to get me to take this feedback down, but I won't because it never worked from day one.\n",
      "User:  The latest macbook has how many slots?\n",
      "Bot:  I just got my MacBook Air in January, so I believe it's the latest model. It did NOT work with my computer. The vendor keeps trying to get me to take this feedback down, but I won't because it never worked from day one.\n",
      "User:  I don't have internet how can I use it?\n",
      "Bot:  You can access B&N store content over wifi, but there's no browser. (When first released, there was a hidden browser accessible through a search trick, but that was quickly removed.) If you're looking to use the browser to obtain non-B&N content, though, note that you can still sideload from a computer using a USB port. Or hack it: http://lifehacker.com/5926798/turn-your-rooted-nook-into-the-ultimate-ereader-with-these-10-apps?post=51063253\n"
     ]
    }
   ],
   "source": [
    "test_questions = [\n",
    "    \"Does it fit Nook GlowLight?\",\n",
    "    \"will this fit the Samsung Galaxy Tab 4 Nook 10.1\",\n",
    "    \"My TV has a VESA 200x200 bolt pattern and I need it to extend to 24 inches. With the extension, will this wall mount fit my bolt pattern?\",\n",
    "\n",
    "    \"How does the latest macbook work?\",\n",
    "    \"The latest macbook has how many slots?\",\n",
    "    \"I don't have internet how can I use it?\",\n",
    "\n",
    "    \"quit\"\n",
    "]\n",
    "\n",
    "for question in test_questions:\n",
    "    if question != \"quit\":\n",
    "        print(\"User: \", question)\n",
    "        response = chatbot(question, questions, answers)\n",
    "        print(\"Bot: \", response)\n",
    "\n",
    "def chatbot_interactive():\n",
    "    question = input(\"User: \")\n",
    "    while question != \"quit\":\n",
    "        response = chatbot(question, questions, answers)\n",
    "        print(\"Bot: \", response)\n",
    "        question = input(\"User: \")\n",
    "\n",
    "# chatbot_interactive()\n"
   ]
  },
  {
   "cell_type": "markdown",
   "metadata": {},
   "source": [
    "<p>Testez votre programme avec le sac de mots et tf-idf. Y a-t-il une différence significative en termes de\n",
    "précision dans les réponses entre ces deux techniques de représentation vectorielle ?<p>"
   ]
  },
  {
   "cell_type": "code",
   "execution_count": 47,
   "metadata": {},
   "outputs": [
    {
     "name": "stdout",
     "output_type": "stream",
     "text": [
      "User:  Does it fit Nook GlowLight?\n",
      "Bot:  No. The nook color or color tablet\n",
      "User:  will this fit the Samsung Galaxy Tab 4 Nook 10.1\n",
      "Bot:  No, the tab is smaller than the 'color'\n",
      "User:  My TV has a VESA 200x200 bolt pattern and I need it to extend to 24 inches. With the extension, will this wall mount fit my bolt pattern?\n",
      "Bot:  200mm x200mm. Yes Fully extended from wall to TV support is 19 inches From wall to the front of my tv is 24 inches.\n",
      "User:  How does the latest macbook work?\n",
      "Bot:  I just got my MacBook Air in January, so I believe it's the latest model. It did NOT work with my computer. The vendor keeps trying to get me to take this feedback down, but I won't because it never worked from day one.\n",
      "User:  The latest macbook has how many slots?\n",
      "Bot:  I just got my MacBook Air in January, so I believe it's the latest model. It did NOT work with my computer. The vendor keeps trying to get me to take this feedback down, but I won't because it never worked from day one.\n",
      "User:  I don't have internet how can I use it?\n",
      "Bot:  You can access B&N store content over wifi, but there's no browser. (When first released, there was a hidden browser accessible through a search trick, but that was quickly removed.) If you're looking to use the browser to obtain non-B&N content, though, note that you can still sideload from a computer using a USB port. Or hack it: http://lifehacker.com/5926798/turn-your-rooted-nook-into-the-ultimate-ereader-with-these-10-apps?post=51063253\n",
      "#################\n",
      "User:  Does it fit Nook GlowLight?\n",
      "Bot:  No. The nook color or color tablet\n",
      "User:  will this fit the Samsung Galaxy Tab 4 Nook 10.1\n",
      "Bot:  No, the tab is smaller than the 'color'\n",
      "User:  My TV has a VESA 200x200 bolt pattern and I need it to extend to 24 inches. With the extension, will this wall mount fit my bolt pattern?\n",
      "Bot:  200mm x200mm. Yes Fully extended from wall to TV support is 19 inches From wall to the front of my tv is 24 inches.\n",
      "User:  How does the latest macbook work?\n",
      "Bot:  yep\n",
      "User:  The latest macbook has how many slots?\n",
      "Bot:  I've already used a couple, but I think 5 originally. About 6\" x 8\"-ish. One sheet equals about 3 batches of broth for my recipes.\n",
      "User:  I don't have internet how can I use it?\n",
      "Bot:  Yes, You have to HAVE a Micro SD to save your files on it ....\n"
     ]
    }
   ],
   "source": [
    "# Test avec TfIdf\n",
    "\n",
    "for question in test_questions:\n",
    "    if question != \"quit\":\n",
    "        print(\"User: \", question)\n",
    "        response = chatbot(question, questions, answers)\n",
    "        print(\"Bot: \", response)\n",
    "\n",
    "print(\"#################\")\n",
    "\n",
    "# Test avec sac de mots\n",
    "\n",
    "for question in test_questions:\n",
    "    if question != \"quit\":\n",
    "        print(\"User: \", question)\n",
    "        response = chatbot(question, questions, answers, sac_words=True)\n",
    "        print(\"Bot: \", response)"
   ]
  },
  {
   "attachments": {},
   "cell_type": "markdown",
   "metadata": {},
   "source": [
    "Les différences sont notables lorsque les phrases sortent du contexte des questions disponibles et en terme de performance également."
   ]
  },
  {
   "attachments": {},
   "cell_type": "markdown",
   "metadata": {},
   "source": [
    "<p>Jusqu'à maintenant vous avez conçu un chatbot spécialisé aux produits électroniques. On s'intéresse à\n",
    "généraliser ce chatbot à d'autres catégories du produit.</p>\n",
    "<p>Sur le site http://jmcauley.ucsd.edu/data/amazon/qa/, téléchargez les fichiers json relatives à trois autres catégories\n",
    "de produits éloignés du monde électronique. Puis adaptez votre programme à ces nouveaux fichiers.\n",
    "Le test reste identique au précédent. Pour chaque catégorie, 6 questions sont à définir (3 sont issues du\n",
    "corpus et les autres hors du corpus).</p>\n",
    "<i>Le chatbot est-il précis dans les réponses à vos requêtes ?</i>"
   ]
  },
  {
   "cell_type": "code",
   "execution_count": 46,
   "metadata": {},
   "outputs": [
    {
     "name": "stdout",
     "output_type": "stream",
     "text": [
      "RECUPERE QUE LES 500 PREMIERS POUR DES RAISONS DE PERFORMANCES\n",
      "1500\n",
      "1500\n"
     ]
    }
   ],
   "source": [
    "#On récupère 500 valeurs des 3 catégories questions et réponses\n",
    "print(\"RECUPERE QUE LES 500 PREMIERS POUR DES RAISONS DE PERFORMANCES\")\n",
    "df = getDF('qa_Electronics.json.gz')\n",
    "questions = df['question'][:500].apply(preprocess).tolist()\n",
    "answers = df['answer'][:500].tolist()\n",
    "\n",
    "df = getDF('qa_Grocery_and_Gourmet_Food.json.gz')\n",
    "questions += df['question'][:500].apply(preprocess).tolist()\n",
    "answers += df['answer'][:500].tolist()\n",
    "\n",
    "df = getDF('qa_Health_and_Personal_Care.json.gz')\n",
    "questions += df['question'][:500].apply(preprocess).tolist()\n",
    "answers += df['answer'][:500].tolist()\n",
    "\n",
    "print(len(questions))\n",
    "print(len(answers))"
   ]
  },
  {
   "cell_type": "code",
   "execution_count": 48,
   "metadata": {},
   "outputs": [
    {
     "name": "stdout",
     "output_type": "stream",
     "text": [
      "User:  how many batteries are actually in this product? Older reviews suggest only 4, but the image is clearly a package of four, with (pack of 2) clearly d\n",
      "Bot:  Its only one pack of 4. I bought AA. If you see another picture then whats described contact customer support. They have been having problems with having the pictures matching their descriptions\n",
      "User:  What is the heat of this compared to the yellow and red curry?\n",
      "Bot:  I think that the yellow is the most mild. The green has a much deeper flavor profile than the yellow and red though.\n",
      "User:  My TV has a VESA 200x200 bolt pattern and I need it to extend to 24 inches. With the extension, will this wall mount fit my bolt pattern?\n",
      "Bot:  200mm x200mm. Yes Fully extended from wall to TV support is 19 inches From wall to the front of my tv is 24 inches.\n",
      "User:  How does the latest macbook work?\n",
      "Bot:  I just got my MacBook Air in January, so I believe it's the latest model. It did NOT work with my computer. The vendor keeps trying to get me to take this feedback down, but I won't because it never worked from day one.\n",
      "User:  The latest macbook has how many slots?\n",
      "Bot:  I just got my MacBook Air in January, so I believe it's the latest model. It did NOT work with my computer. The vendor keeps trying to get me to take this feedback down, but I won't because it never worked from day one.\n",
      "User:  I don't have internet how can I use it?\n",
      "Bot:  You can access B&N store content over wifi, but there's no browser. (When first released, there was a hidden browser accessible through a search trick, but that was quickly removed.) If you're looking to use the browser to obtain non-B&N content, though, note that you can still sideload from a computer using a USB port. Or hack it: http://lifehacker.com/5926798/turn-your-rooted-nook-into-the-ultimate-ereader-with-these-10-apps?post=51063253\n"
     ]
    }
   ],
   "source": [
    "test_questions = [\n",
    "    \"how many batteries are actually in this product? Older reviews suggest only 4, but the image is clearly a package of four, with (pack of 2) clearly d\",\n",
    "    \"What is the heat of this compared to the yellow and red curry?\",\n",
    "    \"My TV has a VESA 200x200 bolt pattern and I need it to extend to 24 inches. With the extension, will this wall mount fit my bolt pattern?\",\n",
    "\n",
    "    \"How does the latest macbook work?\",\n",
    "    \"The latest macbook has how many slots?\",\n",
    "    \"I don't have internet how can I use it?\",\n",
    "\n",
    "    \"quit\"\n",
    "]\n",
    "\n",
    "for question in test_questions:\n",
    "    if question != \"quit\":\n",
    "        print(\"User: \", question)\n",
    "        response = chatbot(question, questions, answers)\n",
    "        print(\"Bot: \", response)\n"
   ]
  },
  {
   "attachments": {},
   "cell_type": "markdown",
   "metadata": {},
   "source": [
    "Le Chatbot est plus précis aux requêtes qui correspondent à son contexte, sinon il continue de donner des réponses assez vague, à noter que les tests utilisés ici sont réalisé avec seulement 500 entrées"
   ]
  },
  {
   "cell_type": "code",
   "execution_count": null,
   "metadata": {},
   "outputs": [],
   "source": []
  }
 ],
 "metadata": {
  "kernelspec": {
   "display_name": "Python 3",
   "language": "python",
   "name": "python3"
  },
  "language_info": {
   "codemirror_mode": {
    "name": "ipython",
    "version": 3
   },
   "file_extension": ".py",
   "mimetype": "text/x-python",
   "name": "python",
   "nbconvert_exporter": "python",
   "pygments_lexer": "ipython3",
   "version": "3.9.5"
  },
  "orig_nbformat": 4,
  "vscode": {
   "interpreter": {
    "hash": "916dbcbb3f70747c44a77c7bcd40155683ae19c65e1c03b4aa3499c5328201f1"
   }
  }
 },
 "nbformat": 4,
 "nbformat_minor": 2
}
